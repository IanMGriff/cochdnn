{
 "cells": [
  {
   "cell_type": "code",
   "execution_count": 1,
   "metadata": {},
   "outputs": [],
   "source": [
    "import pickle \n",
    "from pathlib import Path \n",
    "import yaml\n",
    "import importlib\n"
   ]
  },
  {
   "cell_type": "code",
   "execution_count": 8,
   "metadata": {},
   "outputs": [
    {
     "data": {
      "text/plain": [
       "[PosixPath('lightning_scripts/configs/word_audioset_resnet50_lower_lr_lower_task_weight.yaml'),\n",
       " PosixPath('lightning_scripts/configs/word_audioset_resnet50_lower_lr_slower_schedule.yaml'),\n",
       " PosixPath('lightning_scripts/configs/word_audioset_resnet50_lower_lr_slower_schedule_lower_task_weight.yaml')]"
      ]
     },
     "execution_count": 8,
     "metadata": {},
     "output_type": "execute_result"
    }
   ],
   "source": [
    "## Get list of configs to train \n",
    "\n",
    "config_list = sorted(list(Path(\"lightning_scripts/configs\").glob(\"*lower*.yaml\")))[1:] # [1:] since don't need original config\n",
    "config_list"
   ]
  },
  {
   "cell_type": "code",
   "execution_count": 11,
   "metadata": {},
   "outputs": [
    {
     "data": {
      "text/plain": [
       "{0: 'lightning_scripts/configs/word_audioset_resnet50_lower_lr_lower_task_weight.yaml',\n",
       " 1: 'lightning_scripts/configs/word_audioset_resnet50_lower_lr_slower_schedule.yaml',\n",
       " 2: 'lightning_scripts/configs/word_audioset_resnet50_lower_lr_slower_schedule_lower_task_weight.yaml'}"
      ]
     },
     "execution_count": 11,
     "metadata": {},
     "output_type": "execute_result"
    }
   ],
   "source": [
    "config_dict = {ix:str(config) for ix,config in enumerate(config_list)}\n",
    "config_dict"
   ]
  },
  {
   "cell_type": "code",
   "execution_count": 13,
   "metadata": {},
   "outputs": [],
   "source": [
    "manifest_dir = Path(\"train_config_manifests/\")\n",
    "manifest_dir.mkdir(parents=True, exist_ok=True)\n",
    "out_name = manifest_dir / \"word_audioset_supervised_hparam_search.pkl\"\n",
    "\n",
    "with open(out_name, 'wb') as f:\n",
    "    pickle.dump(config_dict, f)"
   ]
  },
  {
   "cell_type": "code",
   "execution_count": null,
   "metadata": {},
   "outputs": [],
   "source": []
  }
 ],
 "metadata": {
  "kernelspec": {
   "display_name": "cochdnn_ssl_pl",
   "language": "python",
   "name": "cochdnn_ssl_pl"
  },
  "language_info": {
   "codemirror_mode": {
    "name": "ipython",
    "version": 3
   },
   "file_extension": ".py",
   "mimetype": "text/x-python",
   "name": "python",
   "nbconvert_exporter": "python",
   "pygments_lexer": "ipython3",
   "version": "3.12.2"
  }
 },
 "nbformat": 4,
 "nbformat_minor": 4
}
