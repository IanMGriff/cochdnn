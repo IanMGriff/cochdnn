{
 "cells": [
  {
   "cell_type": "code",
   "execution_count": 30,
   "metadata": {},
   "outputs": [],
   "source": [
    "import torch \n",
    "import lightning as L\n",
    "import yaml\n",
    "import sys, os\n",
    "sys.path.append('../')\n",
    "# from lightning_scripts.lightning_classifier import LitWordAudioSetModel \n",
    "import lightning_scripts.lightning_classifier as pl\n",
    "import importlib\n",
    "from pathlib import Path \n",
    "importlib.reload(pl)\n",
    "LitWordAudioSetModel = pl.LitWordAudioSetModel\n",
    "\n",
    "\n",
    "\n"
   ]
  },
  {
   "cell_type": "code",
   "execution_count": 32,
   "metadata": {},
   "outputs": [
    {
     "name": "stdout",
     "output_type": "stream",
     "text": [
      "model_checkpoints/word_audioset_resnet50/checkpoints/epoch=5-step=42750-best_word_task.ckpt\n"
     ]
    }
   ],
   "source": [
    "# get config and init trained model \n",
    "config_path = Path(\"lightning_scripts/configs/word_audioset_resnet50.yaml\")\n",
    "config = yaml.load(open(config_path, 'r'), Loader=yaml.FullLoader)\n",
    "\n",
    "config['num_workers'] = 4\n",
    "config['hparas']['batch_size'] = 96 # set to single-gpu size \n",
    "\n",
    "# update val set to use entire range \n",
    "# config['data']['eval_max'] = -1\n",
    "\n",
    "checkpoint_dir = Path(\"model_checkpoints\") / f\"{config_path.stem}/checkpoints\"\n",
    "ckpt_paths = sorted(checkpoint_dir.glob(\"*.ckpt\"), key=os.path.getctime)\n",
    "ckpt_path = ckpt_paths[-1] # get latest checkpoint \n",
    "print(ckpt_path)"
   ]
  },
  {
   "cell_type": "code",
   "execution_count": 33,
   "metadata": {},
   "outputs": [],
   "source": [
    "model = LitWordAudioSetModel.load_from_checkpoint(checkpoint_path=ckpt_path, config=config)"
   ]
  },
  {
   "cell_type": "code",
   "execution_count": 35,
   "metadata": {},
   "outputs": [
    {
     "data": {
      "text/plain": [
       "'avgpool'"
      ]
     },
     "execution_count": 35,
     "metadata": {},
     "output_type": "execute_result"
    }
   ],
   "source": [
    "model.metamer_layers[-4]"
   ]
  },
  {
   "cell_type": "code",
   "execution_count": 39,
   "metadata": {},
   "outputs": [],
   "source": [
    "\n",
    "x = torch.rand(1,1,40000).cuda()\n",
    "(preds, rep, all_outputs) = orig = model.model(x, with_latent=True, fake_relu=True)"
   ]
  }
 ],
 "metadata": {
  "kernelspec": {
   "display_name": "cochdnn_ssl_pl",
   "language": "python",
   "name": "cochdnn_ssl_pl"
  },
  "language_info": {
   "codemirror_mode": {
    "name": "ipython",
    "version": 3
   },
   "file_extension": ".py",
   "mimetype": "text/x-python",
   "name": "python",
   "nbconvert_exporter": "python",
   "pygments_lexer": "ipython3",
   "version": "3.12.2"
  }
 },
 "nbformat": 4,
 "nbformat_minor": 2
}
