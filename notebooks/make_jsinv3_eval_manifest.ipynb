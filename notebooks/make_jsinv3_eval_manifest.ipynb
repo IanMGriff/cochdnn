{
 "cells": [
  {
   "cell_type": "code",
   "execution_count": 1,
   "metadata": {},
   "outputs": [],
   "source": [
    "import pickle \n",
    "from pathlib import Path \n",
    "import yaml\n",
    "import importlib\n"
   ]
  },
  {
   "cell_type": "code",
   "execution_count": 2,
   "metadata": {},
   "outputs": [
    {
     "data": {
      "text/plain": [
       "[PosixPath('../lightning_scripts/configs/audioset_resnet50.yaml'),\n",
       " PosixPath('../lightning_scripts/configs/word_audioset_resnet50.yaml'),\n",
       " PosixPath('../lightning_scripts/configs/word_audioset_resnet50_for_gpuxl.yaml'),\n",
       " PosixPath('../lightning_scripts/configs/word_audioset_resnet50_lower_lr.yaml'),\n",
       " PosixPath('../lightning_scripts/configs/word_audioset_resnet50_lower_lr_lower_task_weight.yaml'),\n",
       " PosixPath('../lightning_scripts/configs/word_audioset_resnet50_lower_lr_slower_schedule.yaml'),\n",
       " PosixPath('../lightning_scripts/configs/word_audioset_resnet50_lower_lr_slower_schedule_lower_task_weight.yaml'),\n",
       " PosixPath('../lightning_scripts/configs/word_resnet50.yaml')]"
      ]
     },
     "execution_count": 2,
     "metadata": {},
     "output_type": "execute_result"
    }
   ],
   "source": [
    "## Get list of configs to train \n",
    "\n",
    "config_list = sorted(list(Path(\"../lightning_scripts/configs\").glob(\"*.yaml\"))) # [1:] since don't need original config\n",
    "config_list"
   ]
  },
  {
   "cell_type": "code",
   "execution_count": 3,
   "metadata": {},
   "outputs": [
    {
     "data": {
      "text/plain": [
       "{0: 'lightning_scripts/configs/audioset_resnet50.yaml',\n",
       " 1: 'lightning_scripts/configs/word_audioset_resnet50.yaml',\n",
       " 2: 'lightning_scripts/configs/word_audioset_resnet50_for_gpuxl.yaml',\n",
       " 3: 'lightning_scripts/configs/word_audioset_resnet50_lower_lr.yaml',\n",
       " 4: 'lightning_scripts/configs/word_audioset_resnet50_lower_lr_lower_task_weight.yaml',\n",
       " 5: 'lightning_scripts/configs/word_audioset_resnet50_lower_lr_slower_schedule.yaml',\n",
       " 6: 'lightning_scripts/configs/word_audioset_resnet50_lower_lr_slower_schedule_lower_task_weight.yaml',\n",
       " 7: 'lightning_scripts/configs/word_resnet50.yaml'}"
      ]
     },
     "execution_count": 3,
     "metadata": {},
     "output_type": "execute_result"
    }
   ],
   "source": [
    "config_dict = {ix:str(config).split(\"../\")[-1] for ix,config in enumerate(config_list)}\n",
    "config_dict"
   ]
  },
  {
   "cell_type": "code",
   "execution_count": 4,
   "metadata": {},
   "outputs": [],
   "source": [
    "manifest_dir = Path(\"../eval_config_manifests/\")\n",
    "manifest_dir.mkdir(parents=True, exist_ok=True)\n",
    "out_name = manifest_dir / \"all_config_eval_list_09_2024.pkl\"\n",
    "\n",
    "with open(out_name, 'wb') as f:\n",
    "    pickle.dump(config_dict, f)"
   ]
  },
  {
   "cell_type": "code",
   "execution_count": 5,
   "metadata": {},
   "outputs": [
    {
     "data": {
      "text/plain": [
       "PosixPath('eval_config_manifests')"
      ]
     },
     "execution_count": 5,
     "metadata": {},
     "output_type": "execute_result"
    }
   ],
   "source": [
    "manifest_dir"
   ]
  }
 ],
 "metadata": {
  "kernelspec": {
   "display_name": "cochdnn_ssl_pl",
   "language": "python",
   "name": "cochdnn_ssl_pl"
  },
  "language_info": {
   "codemirror_mode": {
    "name": "ipython",
    "version": 3
   },
   "file_extension": ".py",
   "mimetype": "text/x-python",
   "name": "python",
   "nbconvert_exporter": "python",
   "pygments_lexer": "ipython3",
   "version": "3.12.2"
  }
 },
 "nbformat": 4,
 "nbformat_minor": 4
}
